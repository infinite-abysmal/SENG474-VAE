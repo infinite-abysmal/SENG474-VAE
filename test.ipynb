{
 "cells": [
  {
   "cell_type": "code",
   "execution_count": null,
   "metadata": {},
   "outputs": [],
   "source": [
    "import matplotlib.pyplot as plt\n",
    "import numpy as np\n",
    "import pandas as pd\n",
    "\n",
    "from sklearn.mixture import BayesianGaussianMixture\n",
    "from sklearn import model_selection\n",
    "\n",
    "import random\n",
    "import math\n",
    "import datetime"
   ]
  },
  {
   "cell_type": "code",
   "execution_count": null,
   "metadata": {},
   "outputs": [],
   "source": [
    "df = pd.read_csv(\"archive/User0_credit_card_transactions.csv\")\n",
    "# print(df.to_string())\n",
    "# print(df.columns)\n",
    "\n",
    "df_copy = df.copy() #IDK if we'll need this later\n",
    "\n",
    "df = df.drop(columns=[\"Is Fraud?\"])\n",
    "data = df.to_numpy()\n",
    "\n",
    "# print(df.to_string())\n",
    "# print(data[0, :])"
   ]
  },
  {
   "cell_type": "code",
   "execution_count": null,
   "metadata": {},
   "outputs": [],
   "source": [
    "#need to convert the CSV text values into numbers\n",
    "\n",
    "num_transaction_types = 0\n",
    "num_merchant_cities = 0\n",
    "num_merchant_states = 0\n",
    "num_errors = 0\n",
    "\n",
    "transaction_types = {}\n",
    "merchant_cities = {}\n",
    "merchant_states = {}\n",
    "errors = {}\n",
    "\n",
    "zero_time = datetime.datetime.strptime(\"00:00\", \"%H:%M\")\n",
    "\n",
    "X = np.ndarray(data.shape, dtype=float)\n",
    "\n",
    "for i in range(data.shape[0]):\n",
    "    # print(data[i, 5])\n",
    "\n",
    "    #these values are already numbers; no need to change them\n",
    "    #TODO: normalize some of them?\n",
    "    X[i, 0:5] = data[i, 0:5]\n",
    "    X[i, 8] = data[i, 8]\n",
    "    X[i, 11:13] = data[i, 11:13]\n",
    "\n",
    "    #convert the time of date string into the number of minutes past midnight\n",
    "    dtime = datetime.datetime.strptime(data[i, 5], \"%H:%M\")\n",
    "    X[i, 5] = (dtime - zero_time).seconds//60\n",
    "\n",
    "    #convert dollar amount from \"$134.03\" to 134.03\n",
    "    X[i, 6] = float(data[i, 6][1:])\n",
    "\n",
    "    #use ints to represent the different transaction types\n",
    "    if not data[i, 7] in transaction_types:\n",
    "        transaction_types[data[i, 7]] = num_transaction_types\n",
    "        num_transaction_types += 1\n",
    "    X[i, 7] = transaction_types[data[i, 7]]\n",
    "\n",
    "    #use ints to represent the different cities\n",
    "    if not data[i, 9] in merchant_cities:\n",
    "        merchant_cities[data[i, 9]] = num_merchant_cities\n",
    "        num_merchant_cities += 1\n",
    "    X[i, 9] = merchant_cities[data[i, 9]]\n",
    "\n",
    "    #use ints to represent the different states\n",
    "    if not data[i, 10] in merchant_states:\n",
    "        merchant_states[data[i, 10]] = num_merchant_states\n",
    "        num_merchant_states += 1\n",
    "    X[i, 10] = merchant_states[data[i, 10]]\n",
    "\n",
    "    #use ints to represent errors\n",
    "    if not data[i, 13] in errors:\n",
    "        errors[data[i, 13]] = num_errors\n",
    "        num_errors += 1\n",
    "    X[i, 13] = errors[data[i, 13]]\n",
    "\n",
    "    for j in range(X.shape[1]):\n",
    "        if math.isnan(X[i, j]): X[i, j] = 0\n",
    "\n",
    "    # print(data[i])    \n",
    "    # print(X[i], X[i, 11], data[i, 11])"
   ]
  },
  {
   "cell_type": "code",
   "execution_count": null,
   "metadata": {},
   "outputs": [],
   "source": [
    "X_train, X_test = model_selection.train_test_split(X, test_size=0.2)"
   ]
  },
  {
   "cell_type": "code",
   "execution_count": null,
   "metadata": {},
   "outputs": [],
   "source": [
    "bgm = BayesianGaussianMixture()\n",
    "bgm.fit(X_train)\n",
    "\n",
    "probs = bgm.predict_proba(X_test)\n",
    "print(probs[probs != 1]) #note: this currently only returns 1.0 for all samples (the mixture must be tuned)"
   ]
  }
 ],
 "metadata": {
  "kernelspec": {
   "display_name": "Python 3",
   "language": "python",
   "name": "python3"
  },
  "language_info": {
   "codemirror_mode": {
    "name": "ipython",
    "version": 3
   },
   "file_extension": ".py",
   "mimetype": "text/x-python",
   "name": "python",
   "nbconvert_exporter": "python",
   "pygments_lexer": "ipython3",
   "version": "3.13.2"
  }
 },
 "nbformat": 4,
 "nbformat_minor": 2
}
